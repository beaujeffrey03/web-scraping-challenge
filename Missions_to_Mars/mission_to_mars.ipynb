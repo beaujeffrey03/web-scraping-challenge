{
 "cells": [
  {
   "cell_type": "markdown",
   "metadata": {},
   "source": [
    "# Mission to Mars"
   ]
  },
  {
   "cell_type": "code",
   "execution_count": 1,
   "metadata": {},
   "outputs": [],
   "source": [
    "from bs4 import BeautifulSoup as bs\n",
    "import requests\n",
    "import pymongo\n",
    "from splinter import Browser\n",
    "from webdriver_manager.chrome import ChromeDriverManager\n",
    "import pandas as pd"
   ]
  },
  {
   "cell_type": "code",
   "execution_count": 2,
   "metadata": {},
   "outputs": [
    {
     "name": "stderr",
     "output_type": "stream",
     "text": [
      "[WDM] - ====== WebDriver manager ======\n",
      "[WDM] - Current google-chrome version is 89.0.4389\n",
      "[WDM] - Get LATEST driver version for 89.0.4389\n",
      "[WDM] - Driver [/Users/beaujeffrey/.wdm/drivers/chromedriver/mac64/89.0.4389.23/chromedriver] found in cache\n"
     ]
    },
    {
     "name": "stdout",
     "output_type": "stream",
     "text": [
      "\n",
      "\n"
     ]
    }
   ],
   "source": [
    "executable_path = {'executable_path': ChromeDriverManager().install()}\n",
    "browser = Browser('chrome', **executable_path, headless=False)"
   ]
  },
  {
   "cell_type": "markdown",
   "metadata": {},
   "source": [
    "# News"
   ]
  },
  {
   "cell_type": "code",
   "execution_count": 3,
   "metadata": {},
   "outputs": [],
   "source": [
    "mars_scrape = {}\n",
    "\n",
    "# URL of Red Planet Science\n",
    "url_news = 'https://redplanetscience.com/'\n",
    "browser.visit(url_news)\n",
    "\n",
    "# Set up BS to find first (most recent) news title and paragraph\n",
    "html = browser.html\n",
    "soup = bs(html, 'html.parser')\n",
    "result_news = soup.find('div', class_='list_text')\n",
    "\n",
    "mars_scrape['news_title'] = result_news.find('div', class_='content_title').text\n",
    "mars_scrape['news_paragraph'] = result_news.find('div', class_='article_teaser_body').text\n"
   ]
  },
  {
   "cell_type": "markdown",
   "metadata": {},
   "source": [
    "# Space Image"
   ]
  },
  {
   "cell_type": "code",
   "execution_count": 4,
   "metadata": {},
   "outputs": [],
   "source": [
    "# URL of Space Images - Mars\n",
    "url_images = 'https://spaceimages-mars.com/'\n",
    "browser.visit(url_images)\n",
    "\n",
    "# Set up BS to find featured image\n",
    "html = browser.html\n",
    "soup = bs(html, 'html.parser')\n",
    "result_images = soup.find('div', class_='header')\n",
    "\n",
    "featured_image_url = result_images.find('img', class_='headerimage fade-in')\n",
    "mars_scrape['featured_image'] = url_images + featured_image_url['src']"
   ]
  },
  {
   "cell_type": "markdown",
   "metadata": {},
   "source": [
    "# Mars - Earth Table"
   ]
  },
  {
   "cell_type": "code",
   "execution_count": 5,
   "metadata": {},
   "outputs": [],
   "source": [
    "# URL for Mars Facts table\n",
    "url_marsfacts = 'https://galaxyfacts-mars.com/'\n",
    "\n",
    "# Read table\n",
    "table_marsfacts = pd.read_html(url_marsfacts)\n",
    "\n",
    "# Convert table to DF\n",
    "marsfacts_df = table_marsfacts[0]\n",
    "\n",
    "# Transform table to promote first row as header and set new index.\n",
    "new_headers = marsfacts_df.iloc[0]\n",
    "marsfacts_df = marsfacts_df[1:]\n",
    "marsfacts_df.columns = new_headers\n",
    "marsfacts_df = marsfacts_df.set_index('Mars - Earth Comparison')\n",
    "\n",
    "# Convert back to html\n",
    "html_table = marsfacts_df.to_html()\n",
    "html_table = html_table.replace('\\n', '')\n",
    "mars_scrape['mars_facts_table'] = html_table"
   ]
  },
  {
   "cell_type": "markdown",
   "metadata": {},
   "source": [
    "# Hemispheres"
   ]
  },
  {
   "cell_type": "code",
   "execution_count": 6,
   "metadata": {},
   "outputs": [],
   "source": [
    "# URL for Hemispheres\n",
    "url_hemispheres = 'https://marshemispheres.com/'\n",
    "browser.visit(url_hemispheres)\n",
    "\n",
    "# Set up BS to find routes\n",
    "html = browser.html\n",
    "soup = bs(html, 'html.parser')\n",
    "result_hemispheres = soup.find_all('div', class_='item')\n",
    "\n",
    "# create empty lists for gathering hemisphere names and routes to larger images\n",
    "route_list = []\n",
    "hemisphere_list = []\n",
    "\n",
    "# loop through results to make lists of routes and hemisphere names\n",
    "for result in result_hemispheres:\n",
    "        \n",
    "    route = result.find('a', class_='itemLink product-item')['href']\n",
    "    route_list.append(route)\n",
    "    hemisphere = result.find('h3').text\n",
    "    hemisphere_list.append(hemisphere)\n",
    "\n",
    "# create empty list to for gathering image urls\n",
    "image_url_list = []\n",
    "\n",
    "# loop through route list to make new list of image urls\n",
    "for route in route_list:\n",
    "        \n",
    "    # attach route to end of base url\n",
    "    route_url = url_hemispheres + route\n",
    "    browser.visit(route_url)\n",
    "    html = browser.html\n",
    "    soup = bs(html, 'html.parser')\n",
    "        \n",
    "    # get route string for image\n",
    "    big_image = soup.find('img', class_='wide-image')['src']\n",
    "        \n",
    "    # attach image route to end of base url\n",
    "    image_url_list.append(url_hemispheres + str(big_image))\n",
    "    \n",
    "# make list of dictionaries from lists\n",
    "mars_scrape['hemisphere_images'] = [{ 'title': hemisphere_list[i], 'img_url': image_url_list[i] } for i in range( len(image_url_list) )]\n",
    "\n",
    "browser.quit()"
   ]
  }
 ],
 "metadata": {
  "kernelspec": {
   "display_name": "Python 3",
   "language": "python",
   "name": "python3"
  },
  "language_info": {
   "codemirror_mode": {
    "name": "ipython",
    "version": 3
   },
   "file_extension": ".py",
   "mimetype": "text/x-python",
   "name": "python",
   "nbconvert_exporter": "python",
   "pygments_lexer": "ipython3",
   "version": "3.6.10"
  }
 },
 "nbformat": 4,
 "nbformat_minor": 4
}
